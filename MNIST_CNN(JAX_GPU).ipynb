{
  "nbformat": 4,
  "nbformat_minor": 0,
  "metadata": {
    "colab": {
      "provenance": []
    },
    "kernelspec": {
      "name": "python3",
      "display_name": "Python 3"
    },
    "language_info": {
      "name": "python"
    },
    "gpuClass": "standard",
    "accelerator": "GPU",
    "widgets": {
      "application/vnd.jupyter.widget-state+json": {
        "943b7704b0a74183842beb16c87ae552": {
          "model_module": "@jupyter-widgets/controls",
          "model_name": "HBoxModel",
          "model_module_version": "1.5.0",
          "state": {
            "_dom_classes": [],
            "_model_module": "@jupyter-widgets/controls",
            "_model_module_version": "1.5.0",
            "_model_name": "HBoxModel",
            "_view_count": null,
            "_view_module": "@jupyter-widgets/controls",
            "_view_module_version": "1.5.0",
            "_view_name": "HBoxView",
            "box_style": "",
            "children": [
              "IPY_MODEL_7199d5ce3b5c4e71bde64060369b4bd9",
              "IPY_MODEL_61b590b7a4804d57bdbf1c299fbb84f1",
              "IPY_MODEL_b6996e693ce14a5491fc3af00022efb5"
            ],
            "layout": "IPY_MODEL_12fe71e0408644fc9bb17564cb7a9442"
          }
        },
        "7199d5ce3b5c4e71bde64060369b4bd9": {
          "model_module": "@jupyter-widgets/controls",
          "model_name": "HTMLModel",
          "model_module_version": "1.5.0",
          "state": {
            "_dom_classes": [],
            "_model_module": "@jupyter-widgets/controls",
            "_model_module_version": "1.5.0",
            "_model_name": "HTMLModel",
            "_view_count": null,
            "_view_module": "@jupyter-widgets/controls",
            "_view_module_version": "1.5.0",
            "_view_name": "HTMLView",
            "description": "",
            "description_tooltip": null,
            "layout": "IPY_MODEL_418804c52613425bb09ff64a1c31ddf7",
            "placeholder": "​",
            "style": "IPY_MODEL_c619d5d8edaf40f6a815167153bdea2d",
            "value": "Dl Completed...: 100%"
          }
        },
        "61b590b7a4804d57bdbf1c299fbb84f1": {
          "model_module": "@jupyter-widgets/controls",
          "model_name": "FloatProgressModel",
          "model_module_version": "1.5.0",
          "state": {
            "_dom_classes": [],
            "_model_module": "@jupyter-widgets/controls",
            "_model_module_version": "1.5.0",
            "_model_name": "FloatProgressModel",
            "_view_count": null,
            "_view_module": "@jupyter-widgets/controls",
            "_view_module_version": "1.5.0",
            "_view_name": "ProgressView",
            "bar_style": "success",
            "description": "",
            "description_tooltip": null,
            "layout": "IPY_MODEL_e70f150af6614b58a7fbc1f8d6be323b",
            "max": 5,
            "min": 0,
            "orientation": "horizontal",
            "style": "IPY_MODEL_96ceaed4320048c2a822455138cc5d51",
            "value": 5
          }
        },
        "b6996e693ce14a5491fc3af00022efb5": {
          "model_module": "@jupyter-widgets/controls",
          "model_name": "HTMLModel",
          "model_module_version": "1.5.0",
          "state": {
            "_dom_classes": [],
            "_model_module": "@jupyter-widgets/controls",
            "_model_module_version": "1.5.0",
            "_model_name": "HTMLModel",
            "_view_count": null,
            "_view_module": "@jupyter-widgets/controls",
            "_view_module_version": "1.5.0",
            "_view_name": "HTMLView",
            "description": "",
            "description_tooltip": null,
            "layout": "IPY_MODEL_e847ce4616c34c97a1fc5ad1ca25fcb1",
            "placeholder": "​",
            "style": "IPY_MODEL_10bed69c237b469e874555f12a8c2c6e",
            "value": " 5/5 [00:00&lt;00:00, 18.06 file/s]"
          }
        },
        "12fe71e0408644fc9bb17564cb7a9442": {
          "model_module": "@jupyter-widgets/base",
          "model_name": "LayoutModel",
          "model_module_version": "1.2.0",
          "state": {
            "_model_module": "@jupyter-widgets/base",
            "_model_module_version": "1.2.0",
            "_model_name": "LayoutModel",
            "_view_count": null,
            "_view_module": "@jupyter-widgets/base",
            "_view_module_version": "1.2.0",
            "_view_name": "LayoutView",
            "align_content": null,
            "align_items": null,
            "align_self": null,
            "border": null,
            "bottom": null,
            "display": null,
            "flex": null,
            "flex_flow": null,
            "grid_area": null,
            "grid_auto_columns": null,
            "grid_auto_flow": null,
            "grid_auto_rows": null,
            "grid_column": null,
            "grid_gap": null,
            "grid_row": null,
            "grid_template_areas": null,
            "grid_template_columns": null,
            "grid_template_rows": null,
            "height": null,
            "justify_content": null,
            "justify_items": null,
            "left": null,
            "margin": null,
            "max_height": null,
            "max_width": null,
            "min_height": null,
            "min_width": null,
            "object_fit": null,
            "object_position": null,
            "order": null,
            "overflow": null,
            "overflow_x": null,
            "overflow_y": null,
            "padding": null,
            "right": null,
            "top": null,
            "visibility": null,
            "width": null
          }
        },
        "418804c52613425bb09ff64a1c31ddf7": {
          "model_module": "@jupyter-widgets/base",
          "model_name": "LayoutModel",
          "model_module_version": "1.2.0",
          "state": {
            "_model_module": "@jupyter-widgets/base",
            "_model_module_version": "1.2.0",
            "_model_name": "LayoutModel",
            "_view_count": null,
            "_view_module": "@jupyter-widgets/base",
            "_view_module_version": "1.2.0",
            "_view_name": "LayoutView",
            "align_content": null,
            "align_items": null,
            "align_self": null,
            "border": null,
            "bottom": null,
            "display": null,
            "flex": null,
            "flex_flow": null,
            "grid_area": null,
            "grid_auto_columns": null,
            "grid_auto_flow": null,
            "grid_auto_rows": null,
            "grid_column": null,
            "grid_gap": null,
            "grid_row": null,
            "grid_template_areas": null,
            "grid_template_columns": null,
            "grid_template_rows": null,
            "height": null,
            "justify_content": null,
            "justify_items": null,
            "left": null,
            "margin": null,
            "max_height": null,
            "max_width": null,
            "min_height": null,
            "min_width": null,
            "object_fit": null,
            "object_position": null,
            "order": null,
            "overflow": null,
            "overflow_x": null,
            "overflow_y": null,
            "padding": null,
            "right": null,
            "top": null,
            "visibility": null,
            "width": null
          }
        },
        "c619d5d8edaf40f6a815167153bdea2d": {
          "model_module": "@jupyter-widgets/controls",
          "model_name": "DescriptionStyleModel",
          "model_module_version": "1.5.0",
          "state": {
            "_model_module": "@jupyter-widgets/controls",
            "_model_module_version": "1.5.0",
            "_model_name": "DescriptionStyleModel",
            "_view_count": null,
            "_view_module": "@jupyter-widgets/base",
            "_view_module_version": "1.2.0",
            "_view_name": "StyleView",
            "description_width": ""
          }
        },
        "e70f150af6614b58a7fbc1f8d6be323b": {
          "model_module": "@jupyter-widgets/base",
          "model_name": "LayoutModel",
          "model_module_version": "1.2.0",
          "state": {
            "_model_module": "@jupyter-widgets/base",
            "_model_module_version": "1.2.0",
            "_model_name": "LayoutModel",
            "_view_count": null,
            "_view_module": "@jupyter-widgets/base",
            "_view_module_version": "1.2.0",
            "_view_name": "LayoutView",
            "align_content": null,
            "align_items": null,
            "align_self": null,
            "border": null,
            "bottom": null,
            "display": null,
            "flex": null,
            "flex_flow": null,
            "grid_area": null,
            "grid_auto_columns": null,
            "grid_auto_flow": null,
            "grid_auto_rows": null,
            "grid_column": null,
            "grid_gap": null,
            "grid_row": null,
            "grid_template_areas": null,
            "grid_template_columns": null,
            "grid_template_rows": null,
            "height": null,
            "justify_content": null,
            "justify_items": null,
            "left": null,
            "margin": null,
            "max_height": null,
            "max_width": null,
            "min_height": null,
            "min_width": null,
            "object_fit": null,
            "object_position": null,
            "order": null,
            "overflow": null,
            "overflow_x": null,
            "overflow_y": null,
            "padding": null,
            "right": null,
            "top": null,
            "visibility": null,
            "width": null
          }
        },
        "96ceaed4320048c2a822455138cc5d51": {
          "model_module": "@jupyter-widgets/controls",
          "model_name": "ProgressStyleModel",
          "model_module_version": "1.5.0",
          "state": {
            "_model_module": "@jupyter-widgets/controls",
            "_model_module_version": "1.5.0",
            "_model_name": "ProgressStyleModel",
            "_view_count": null,
            "_view_module": "@jupyter-widgets/base",
            "_view_module_version": "1.2.0",
            "_view_name": "StyleView",
            "bar_color": null,
            "description_width": ""
          }
        },
        "e847ce4616c34c97a1fc5ad1ca25fcb1": {
          "model_module": "@jupyter-widgets/base",
          "model_name": "LayoutModel",
          "model_module_version": "1.2.0",
          "state": {
            "_model_module": "@jupyter-widgets/base",
            "_model_module_version": "1.2.0",
            "_model_name": "LayoutModel",
            "_view_count": null,
            "_view_module": "@jupyter-widgets/base",
            "_view_module_version": "1.2.0",
            "_view_name": "LayoutView",
            "align_content": null,
            "align_items": null,
            "align_self": null,
            "border": null,
            "bottom": null,
            "display": null,
            "flex": null,
            "flex_flow": null,
            "grid_area": null,
            "grid_auto_columns": null,
            "grid_auto_flow": null,
            "grid_auto_rows": null,
            "grid_column": null,
            "grid_gap": null,
            "grid_row": null,
            "grid_template_areas": null,
            "grid_template_columns": null,
            "grid_template_rows": null,
            "height": null,
            "justify_content": null,
            "justify_items": null,
            "left": null,
            "margin": null,
            "max_height": null,
            "max_width": null,
            "min_height": null,
            "min_width": null,
            "object_fit": null,
            "object_position": null,
            "order": null,
            "overflow": null,
            "overflow_x": null,
            "overflow_y": null,
            "padding": null,
            "right": null,
            "top": null,
            "visibility": null,
            "width": null
          }
        },
        "10bed69c237b469e874555f12a8c2c6e": {
          "model_module": "@jupyter-widgets/controls",
          "model_name": "DescriptionStyleModel",
          "model_module_version": "1.5.0",
          "state": {
            "_model_module": "@jupyter-widgets/controls",
            "_model_module_version": "1.5.0",
            "_model_name": "DescriptionStyleModel",
            "_view_count": null,
            "_view_module": "@jupyter-widgets/base",
            "_view_module_version": "1.2.0",
            "_view_name": "StyleView",
            "description_width": ""
          }
        }
      }
    }
  },
  "cells": [
    {
      "cell_type": "markdown",
      "source": [
        "## 1) Install JAX, FLAX, Optax and TFDS. \n",
        "\n",
        "==> **Flax** can use any dataset loading pipeline (Tensorflow Datasets or Pytorch DataLoader)."
      ],
      "metadata": {
        "id": "WveubDi-cdmx"
      }
    },
    {
      "cell_type": "code",
      "source": [
        "!pip install --upgrade -q pip jax jaxlib flax optax tensorflow-datasets"
      ],
      "metadata": {
        "colab": {
          "base_uri": "https://localhost:8080/"
        },
        "id": "AFWbepSZc-io",
        "outputId": "67cb415d-3f7b-4639-8a43-58f0ded74960"
      },
      "execution_count": 1,
      "outputs": [
        {
          "output_type": "stream",
          "name": "stdout",
          "text": [
            "\u001b[2K     \u001b[90m━━━━━━━━━━━━━━━━━━━━━━━━━━━━━━━━━━━━━━━━\u001b[0m \u001b[32m2.1/2.1 MB\u001b[0m \u001b[31m67.1 MB/s\u001b[0m eta \u001b[36m0:00:00\u001b[0m\n",
            "\u001b[2K     \u001b[90m━━━━━━━━━━━━━━━━━━━━━━━━━━━━━━━━━━━━━━━━\u001b[0m \u001b[32m1.2/1.2 MB\u001b[0m \u001b[31m75.4 MB/s\u001b[0m eta \u001b[36m0:00:00\u001b[0m\n",
            "\u001b[?25h  Preparing metadata (setup.py) ... \u001b[?25l\u001b[?25hdone\n",
            "\u001b[2K     \u001b[90m━━━━━━━━━━━━━━━━━━━━━━━━━━━━━━━━━━━━━━━━\u001b[0m \u001b[32m71.9/71.9 MB\u001b[0m \u001b[31m13.5 MB/s\u001b[0m eta \u001b[36m0:00:00\u001b[0m\n",
            "\u001b[2K     \u001b[90m━━━━━━━━━━━━━━━━━━━━━━━━━━━━━━━━━━━━━━\u001b[0m \u001b[32m204.3/204.3 KB\u001b[0m \u001b[31m26.1 MB/s\u001b[0m eta \u001b[36m0:00:00\u001b[0m\n",
            "\u001b[2K     \u001b[90m━━━━━━━━━━━━━━━━━━━━━━━━━━━━━━━━━━━━━━\u001b[0m \u001b[32m154.9/154.9 KB\u001b[0m \u001b[31m15.4 MB/s\u001b[0m eta \u001b[36m0:00:00\u001b[0m\n",
            "\u001b[2K     \u001b[90m━━━━━━━━━━━━━━━━━━━━━━━━━━━━━━━━━━━━━━━━\u001b[0m \u001b[32m5.3/5.3 MB\u001b[0m \u001b[31m119.1 MB/s\u001b[0m eta \u001b[36m0:00:00\u001b[0m\n",
            "\u001b[2K     \u001b[90m━━━━━━━━━━━━━━━━━━━━━━━━━━━━━━━━━━━━━━━━\u001b[0m \u001b[32m67.0/67.0 KB\u001b[0m \u001b[31m9.5 MB/s\u001b[0m eta \u001b[36m0:00:00\u001b[0m\n",
            "\u001b[2K     \u001b[90m━━━━━━━━━━━━━━━━━━━━━━━━━━━━━━━━━━━━━━━━\u001b[0m \u001b[32m8.3/8.3 MB\u001b[0m \u001b[31m113.4 MB/s\u001b[0m eta \u001b[36m0:00:00\u001b[0m\n",
            "\u001b[2K     \u001b[90m━━━━━━━━━━━━━━━━━━━━━━━━━━━━━━━━━━━━━━\u001b[0m \u001b[32m239.0/239.0 KB\u001b[0m \u001b[31m28.6 MB/s\u001b[0m eta \u001b[36m0:00:00\u001b[0m\n",
            "\u001b[2K     \u001b[90m━━━━━━━━━━━━━━━━━━━━━━━━━━━━━━━━━━━━━━━━\u001b[0m \u001b[32m85.3/85.3 KB\u001b[0m \u001b[31m11.1 MB/s\u001b[0m eta \u001b[36m0:00:00\u001b[0m\n",
            "\u001b[2K     \u001b[90m━━━━━━━━━━━━━━━━━━━━━━━━━━━━━━━━━━━━━━━━\u001b[0m \u001b[32m84.5/84.5 KB\u001b[0m \u001b[31m11.8 MB/s\u001b[0m eta \u001b[36m0:00:00\u001b[0m\n",
            "\u001b[2K     \u001b[90m━━━━━━━━━━━━━━━━━━━━━━━━━━━━━━━━━━━━━━━━\u001b[0m \u001b[32m1.1/1.1 MB\u001b[0m \u001b[31m70.7 MB/s\u001b[0m eta \u001b[36m0:00:00\u001b[0m\n",
            "\u001b[?25h  Building wheel for jax (setup.py) ... \u001b[?25l\u001b[?25hdone\n",
            "\u001b[31mERROR: pip's dependency resolver does not currently take into account all the packages that are installed. This behaviour is the source of the following dependency conflicts.\n",
            "ipython 7.9.0 requires jedi>=0.10, which is not installed.\u001b[0m\u001b[31m\n",
            "\u001b[0m"
          ]
        }
      ]
    },
    {
      "cell_type": "markdown",
      "source": [
        "##2) Import Libraries"
      ],
      "metadata": {
        "id": "GFmz91RedYje"
      }
    },
    {
      "cell_type": "code",
      "source": [
        "import jax\n",
        "\n",
        "#JAX Numpy lets you run code on GPUs & TPUs\n",
        "import jax.numpy as jnp \n",
        "\n",
        "from flax import linen as nn      #The Linen API\n",
        "from flax.training import train_state\n",
        "\n",
        "#The Optax gradient processing and optimization library \n",
        "import optax \n",
        "\n",
        "import numpy as np "
      ],
      "metadata": {
        "id": "fySURhEkdJ31"
      },
      "execution_count": 2,
      "outputs": []
    },
    {
      "cell_type": "code",
      "source": [
        "import tensorflow\n",
        "import tensorflow_datasets as tfds \n",
        "\n",
        "# We can load the built in datasets from this function\n",
        "from tensorflow.keras.datasets import mnist\n",
        "\n",
        "def get_datasets():\n",
        "  ds_builder = tfds.builder('mnist')\n",
        "  ds_builder.download_and_prepare()\n",
        "  # Split into training/test sets\n",
        "  train_ds = tfds.as_numpy(ds_builder.as_dataset(split='train', batch_size=-1))\n",
        "  test_ds = tfds.as_numpy(ds_builder.as_dataset(split='test', batch_size=-1))\n",
        "  # Convert to floating-points\n",
        "  train_ds['image'] = jnp.float32(train_ds['image']) / 255.0\n",
        "  test_ds['image'] = jnp.float32(test_ds['image']) / 255.0\n",
        "  return train_ds, test_ds"
      ],
      "metadata": {
        "id": "B-OyyEMEkUNh"
      },
      "execution_count": 3,
      "outputs": []
    },
    {
      "cell_type": "markdown",
      "source": [
        "## 3) Build a Model \n",
        "Build a convolutional neural network with the Flax Linen API by subclassing `flax.linen.Module`. "
      ],
      "metadata": {
        "id": "Qj_FQj2me_5u"
      }
    },
    {
      "cell_type": "code",
      "source": [
        "class CNN(nn.Module):\n",
        "\n",
        "  @nn.compact\n",
        "  # Provide a constructor to register a new parameter \n",
        "  # and return its initial value\n",
        "  def __call__(self, x):\n",
        "    x = nn.Conv(features=32, kernel_size=(3, 3))(x)\n",
        "    x = nn.relu(x)\n",
        "    x = nn.avg_pool(x, window_shape=(2, 2), strides=(2, 2))\n",
        "    x = nn.Conv(features=64, kernel_size=(3, 3))(x)\n",
        "    x = nn.relu(x)\n",
        "    x = nn.avg_pool(x, window_shape=(2, 2), strides=(2, 2))\n",
        "    x = x.reshape((x.shape[0], -1)) # Flatten\n",
        "    x = nn.Dense(features=256)(x)\n",
        "    x = nn.relu(x)\n",
        "    x = nn.Dense(features=10)(x)    # There are 10 classes in MNIST\n",
        "    return x"
      ],
      "metadata": {
        "id": "qN0xW26IfH54"
      },
      "execution_count": 4,
      "outputs": []
    },
    {
      "cell_type": "markdown",
      "source": [
        "## 4) Create a metrics function \n",
        "For loss and accuracy metrics, create a separate function:\n",
        "- **Optax** has a built-in softmax cross-entropy loss (`optax.softmax_cross_entropy`).\n",
        "- The labels can be **one-hot** encoded with `jax.nn.one_hot`."
      ],
      "metadata": {
        "id": "zLo7hZgxnwXl"
      }
    },
    {
      "cell_type": "code",
      "source": [
        "def compute_metrics(logits, labels):\n",
        "  loss = jnp.mean(optax.softmax_cross_entropy(logits, jax.nn.one_hot(labels, num_classes=10)))\n",
        "  accuracy = jnp.mean(jnp.argmax(logits, -1) == labels)\n",
        "  metrics = {\n",
        "      'loss': loss,\n",
        "      'accuracy': accuracy\n",
        "  }\n",
        "  return metrics"
      ],
      "metadata": {
        "id": "hMn8Z6o-lIir"
      },
      "execution_count": 5,
      "outputs": []
    },
    {
      "cell_type": "code",
      "source": [
        "@jax.jit\n",
        "def train_step(state, batch):\n",
        "  def loss_fn(params):\n",
        "    logits = CNN().apply({'params': params}, batch['image'])\n",
        "    loss = jnp.mean(optax.softmax_cross_entropy(\n",
        "        logits=logits, \n",
        "        labels=jax.nn.one_hot(batch['label'], num_classes=10)))\n",
        "    return loss, logits\n",
        "  grad_fn = jax.value_and_grad(loss_fn, has_aux=True)\n",
        "  (_, logits), grads = grad_fn(state.params)\n",
        "  state = state.apply_gradients(grads=grads)\n",
        "  metrics = compute_metrics(logits, batch['label'])\n",
        "  return state, metrics"
      ],
      "metadata": {
        "id": "vww7QlDvlMyE"
      },
      "execution_count": 6,
      "outputs": []
    },
    {
      "cell_type": "code",
      "source": [
        "@jax.jit\n",
        "def eval_step(params, batch):\n",
        "  logits = CNN().apply({'params': params}, batch['image'])\n",
        "  return compute_metrics(logits, batch['label'])"
      ],
      "metadata": {
        "id": "y4Qrlux-mHYU"
      },
      "execution_count": 7,
      "outputs": []
    },
    {
      "cell_type": "code",
      "source": [
        "def train_epoch(state, train_ds, batch_size, epoch, rng):\n",
        "  train_ds_size = len(train_ds['image'])\n",
        "  steps_per_epoch = train_ds_size // batch_size\n",
        "\n",
        "  perms = jax.random.permutation(rng, len(train_ds['image']))\n",
        "  perms = perms[:steps_per_epoch * batch_size]  # Skip an incomplete batch\n",
        "  perms = perms.reshape((steps_per_epoch, batch_size))\n",
        "\n",
        "  batch_metrics = []\n",
        "\n",
        "  for perm in perms:\n",
        "    batch = {k: v[perm, ...] for k, v in train_ds.items()}\n",
        "    state, metrics = train_step(state, batch)\n",
        "    batch_metrics.append(metrics)\n",
        "\n",
        "  training_batch_metrics = jax.device_get(batch_metrics)\n",
        "  training_epoch_metrics = {\n",
        "      k: np.mean([metrics[k] for metrics in training_batch_metrics])\n",
        "      for k in training_batch_metrics[0]}\n",
        "\n",
        "  print('Training - epoch: %d, loss: %.4f, accuracy: %.2f' % (epoch, training_epoch_metrics['loss'], training_epoch_metrics['accuracy'] * 100))\n",
        "\n",
        "  return state, training_epoch_metrics"
      ],
      "metadata": {
        "id": "aqDAivDtmJmj"
      },
      "execution_count": 8,
      "outputs": []
    },
    {
      "cell_type": "code",
      "source": [
        "def eval_model(model, test_ds):\n",
        "  metrics = eval_step(model, test_ds)\n",
        "  metrics = jax.device_get(metrics)\n",
        "  eval_summary = jax.tree_map(lambda x: x.item(), metrics)\n",
        "  return eval_summary['loss'], eval_summary['accuracy']"
      ],
      "metadata": {
        "id": "Y5rwRlJKmJqD"
      },
      "execution_count": 9,
      "outputs": []
    },
    {
      "cell_type": "code",
      "source": [
        "rng = jax.random.PRNGKey(0)\n",
        "rng, init_rng = jax.random.split(rng)"
      ],
      "metadata": {
        "colab": {
          "base_uri": "https://localhost:8080/"
        },
        "id": "7X3VSsV7mS4E",
        "outputId": "a34e0ef5-9952-4c7b-be7b-d6d7d53061d4"
      },
      "execution_count": 10,
      "outputs": [
        {
          "output_type": "stream",
          "name": "stderr",
          "text": [
            "WARNING:jax._src.lib.xla_bridge:No GPU/TPU found, falling back to CPU. (Set TF_CPP_MIN_LOG_LEVEL=0 and rerun for more info.)\n"
          ]
        }
      ]
    },
    {
      "cell_type": "code",
      "source": [
        "cnn = CNN()\n",
        "params = cnn.init(init_rng, jnp.ones([1, 28, 28, 1]))['params']"
      ],
      "metadata": {
        "id": "U52yBvylmqKB"
      },
      "execution_count": 11,
      "outputs": []
    },
    {
      "cell_type": "code",
      "source": [
        "learning_rate = 0.001\n",
        "tx = optax.sgd(learning_rate=learning_rate)"
      ],
      "metadata": {
        "id": "ezflujzrms9D"
      },
      "execution_count": 12,
      "outputs": []
    },
    {
      "cell_type": "code",
      "source": [
        "state = train_state.TrainState.create(apply_fn=cnn.apply, params=params, tx=tx)"
      ],
      "metadata": {
        "id": "qLHNG48wmu-1"
      },
      "execution_count": 13,
      "outputs": []
    },
    {
      "cell_type": "code",
      "source": [
        "num_epochs = 25\n",
        "batch_size = 128"
      ],
      "metadata": {
        "id": "oDdpY7Azmy_E"
      },
      "execution_count": 14,
      "outputs": []
    },
    {
      "cell_type": "code",
      "source": [
        "train_ds, test_ds = get_datasets()"
      ],
      "metadata": {
        "colab": {
          "base_uri": "https://localhost:8080/",
          "height": 104,
          "referenced_widgets": [
            "943b7704b0a74183842beb16c87ae552",
            "7199d5ce3b5c4e71bde64060369b4bd9",
            "61b590b7a4804d57bdbf1c299fbb84f1",
            "b6996e693ce14a5491fc3af00022efb5",
            "12fe71e0408644fc9bb17564cb7a9442",
            "418804c52613425bb09ff64a1c31ddf7",
            "c619d5d8edaf40f6a815167153bdea2d",
            "e70f150af6614b58a7fbc1f8d6be323b",
            "96ceaed4320048c2a822455138cc5d51",
            "e847ce4616c34c97a1fc5ad1ca25fcb1",
            "10bed69c237b469e874555f12a8c2c6e"
          ]
        },
        "id": "MxOoLN1MoLfq",
        "outputId": "d210839b-a4e8-4c22-87f2-e02aac73ac3d"
      },
      "execution_count": 15,
      "outputs": [
        {
          "output_type": "stream",
          "name": "stdout",
          "text": [
            "Downloading and preparing dataset 11.06 MiB (download: 11.06 MiB, generated: 21.00 MiB, total: 32.06 MiB) to /root/tensorflow_datasets/mnist/3.0.1...\n"
          ]
        },
        {
          "output_type": "display_data",
          "data": {
            "text/plain": [
              "Dl Completed...:   0%|          | 0/5 [00:00<?, ? file/s]"
            ],
            "application/vnd.jupyter.widget-view+json": {
              "version_major": 2,
              "version_minor": 0,
              "model_id": "943b7704b0a74183842beb16c87ae552"
            }
          },
          "metadata": {}
        },
        {
          "output_type": "stream",
          "name": "stdout",
          "text": [
            "Dataset mnist downloaded and prepared to /root/tensorflow_datasets/mnist/3.0.1. Subsequent calls will reuse this data.\n"
          ]
        }
      ]
    },
    {
      "cell_type": "code",
      "source": [
        "import time\n",
        "\n",
        "start = time.time() \n",
        "\n",
        "for epoch in range(1, num_epochs + 1):\n",
        "  # Use a separate PRNG key to permute image data during shuffling\n",
        "  rng, input_rng = jax.random.split(rng)\n",
        "  # Run an optimization step over a training batch\n",
        "  state, train_metrics = train_epoch(state, train_ds, batch_size, epoch, input_rng)\n",
        "  # Evaluate on the test set after each training epoch\n",
        "  test_loss, test_accuracy = eval_model(state.params, test_ds)\n",
        "  print('Testing - epoch: %d, loss: %.2f, accuracy: %.2f' % (epoch, test_loss, test_accuracy * 100))\n",
        "\n",
        "print('Finished Training')\n",
        "print(\"Total time: \", time.time() - start, \"seconds\") "
      ],
      "metadata": {
        "colab": {
          "base_uri": "https://localhost:8080/"
        },
        "id": "Md9Hk9BNm1oW",
        "outputId": "cf762e1d-ebca-46b5-dddd-04f494e6b251"
      },
      "execution_count": 16,
      "outputs": [
        {
          "output_type": "stream",
          "name": "stdout",
          "text": [
            "Training - epoch: 1, loss: 2.2437, accuracy: 32.41\n",
            "Testing - epoch: 1, loss: 2.16, accuracy: 60.28\n",
            "Training - epoch: 2, loss: 2.0582, accuracy: 66.50\n",
            "Testing - epoch: 2, loss: 1.91, accuracy: 73.00\n",
            "Training - epoch: 3, loss: 1.6968, accuracy: 72.72\n",
            "Testing - epoch: 3, loss: 1.42, accuracy: 77.04\n",
            "Training - epoch: 4, loss: 1.1834, accuracy: 77.76\n",
            "Testing - epoch: 4, loss: 0.93, accuracy: 82.32\n",
            "Training - epoch: 5, loss: 0.8114, accuracy: 82.19\n",
            "Testing - epoch: 5, loss: 0.67, accuracy: 85.12\n",
            "Training - epoch: 6, loss: 0.6258, accuracy: 84.82\n",
            "Testing - epoch: 6, loss: 0.54, accuracy: 86.83\n",
            "Training - epoch: 7, loss: 0.5316, accuracy: 86.22\n",
            "Testing - epoch: 7, loss: 0.48, accuracy: 87.73\n",
            "Training - epoch: 8, loss: 0.4776, accuracy: 87.25\n",
            "Testing - epoch: 8, loss: 0.43, accuracy: 88.54\n",
            "Training - epoch: 9, loss: 0.4425, accuracy: 87.91\n",
            "Testing - epoch: 9, loss: 0.41, accuracy: 88.87\n",
            "Training - epoch: 10, loss: 0.4176, accuracy: 88.40\n",
            "Testing - epoch: 10, loss: 0.39, accuracy: 89.33\n",
            "Training - epoch: 11, loss: 0.3993, accuracy: 88.78\n",
            "Testing - epoch: 11, loss: 0.37, accuracy: 89.68\n",
            "Training - epoch: 12, loss: 0.3844, accuracy: 89.11\n",
            "Testing - epoch: 12, loss: 0.36, accuracy: 89.93\n",
            "Training - epoch: 13, loss: 0.3721, accuracy: 89.38\n",
            "Testing - epoch: 13, loss: 0.35, accuracy: 90.17\n",
            "Training - epoch: 14, loss: 0.3615, accuracy: 89.68\n",
            "Testing - epoch: 14, loss: 0.34, accuracy: 90.37\n",
            "Training - epoch: 15, loss: 0.3517, accuracy: 89.94\n",
            "Testing - epoch: 15, loss: 0.33, accuracy: 90.62\n",
            "Training - epoch: 16, loss: 0.3433, accuracy: 90.13\n",
            "Testing - epoch: 16, loss: 0.32, accuracy: 90.80\n",
            "Training - epoch: 17, loss: 0.3356, accuracy: 90.30\n",
            "Testing - epoch: 17, loss: 0.31, accuracy: 90.97\n",
            "Training - epoch: 18, loss: 0.3285, accuracy: 90.55\n",
            "Testing - epoch: 18, loss: 0.31, accuracy: 91.14\n",
            "Training - epoch: 19, loss: 0.3217, accuracy: 90.73\n",
            "Testing - epoch: 19, loss: 0.30, accuracy: 91.25\n",
            "Training - epoch: 20, loss: 0.3154, accuracy: 90.87\n",
            "Testing - epoch: 20, loss: 0.30, accuracy: 91.43\n",
            "Training - epoch: 21, loss: 0.3098, accuracy: 91.05\n",
            "Testing - epoch: 21, loss: 0.29, accuracy: 91.66\n",
            "Training - epoch: 22, loss: 0.3044, accuracy: 91.20\n",
            "Testing - epoch: 22, loss: 0.29, accuracy: 91.75\n",
            "Training - epoch: 23, loss: 0.2990, accuracy: 91.34\n",
            "Testing - epoch: 23, loss: 0.28, accuracy: 91.81\n",
            "Training - epoch: 24, loss: 0.2942, accuracy: 91.47\n",
            "Testing - epoch: 24, loss: 0.28, accuracy: 92.00\n",
            "Training - epoch: 25, loss: 0.2889, accuracy: 91.62\n",
            "Testing - epoch: 25, loss: 0.27, accuracy: 92.11\n",
            "Finished Training\n",
            "Total time:  2340.467576265335 seconds\n"
          ]
        }
      ]
    },
    {
      "cell_type": "code",
      "source": [],
      "metadata": {
        "id": "MtEMovnAoPwu"
      },
      "execution_count": 16,
      "outputs": []
    }
  ]
}